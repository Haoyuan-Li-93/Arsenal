{
 "cells": [
  {
   "cell_type": "code",
   "execution_count": 1,
   "metadata": {},
   "outputs": [],
   "source": [
    "import sys\n",
    "import numpy as np\n",
    "import h5py as h5\n",
    "import time \n",
    "import matplotlib.pyplot as plt\n",
    "\n",
    "import psana\n",
    "\n",
    "sys.path.append('/reg/neh/home5/haoyuan/Documents/my_repos/Arsenal')\n",
    "import arsenal\n",
    "import arsenal.lcls"
   ]
  },
  {
   "cell_type": "markdown",
   "metadata": {},
   "source": [
    "# Define parameters"
   ]
  },
  {
   "cell_type": "code",
   "execution_count": 5,
   "metadata": {},
   "outputs": [
    {
     "name": "stdout",
     "output_type": "stream",
     "text": [
      "Processing results will be saved to folder /reg/d/psdm/amo/amox26916/results/haoyuan/.\n"
     ]
    }
   ],
   "source": [
    "# Experiment info\n",
    "exp_line = 'amo'\n",
    "exp_name = 'amox26916'\n",
    "user_name = 'haoyuan'\n",
    "run_num = 85\n",
    "det_name = 'pnccdFront'\n",
    "\n",
    "# processing info\n",
    "process_stage = 'scratch'\n",
    "\n",
    "# Load mask\n",
    "mask = np.load('/reg/d/psdm/amo/amox26916/scratch/haoyuan/psocake/r0085/masks/jet_streak_1.npy')\n",
    "\n",
    "# Io info\n",
    "output_address = '/reg/d/psdm/{}/{}/results/{}/'.format(exp_line, exp_name,user_name)\n",
    "\n",
    "print(\"Processing results will be saved to folder {}.\".format(output_address))"
   ]
  },
  {
   "cell_type": "markdown",
   "metadata": {},
   "source": [
    "# Initialize the datasource and detector and mask"
   ]
  },
  {
   "cell_type": "code",
   "execution_count": 6,
   "metadata": {},
   "outputs": [
    {
     "name": "stdout",
     "output_type": "stream",
     "text": [
      "There are 36534 patterns in this run in total.\n"
     ]
    }
   ],
   "source": [
    "# Get data source\n",
    "ds = psana.DataSource('exp={}:run={}:idx'.format(exp_name, run_num))\n",
    "run = ds.runs().next()    \n",
    "env = ds.env()\n",
    "times = run.times()\n",
    "evt = run.event(times[0])\n",
    "\n",
    "# Get pattern number\n",
    "pattern_num = len(times)\n",
    "print(\"There are {} patterns in this run in total.\".format(pattern_num))\n",
    "\n",
    "# Get detector\n",
    "det = psana.Detector('pnccdFront', env)\n",
    "\n",
    "# Get 2d mask\n",
    "mask_2d = det.image(nda_in=mask, evt=evt)\n",
    "\n",
    "# Cast the mask to boolean values\n",
    "mask_bool = np.zeros_like(mask, dtype=np.bool)\n",
    "mask_bool[mask>0.5] = True\n",
    "mask_bool[mask<0.5] = False"
   ]
  },
  {
   "cell_type": "code",
   "execution_count": 7,
   "metadata": {},
   "outputs": [
    {
     "data": {
      "image/png": "[encoded data removed]",
      "text/plain": [
       "<matplotlib.figure.Figure at 0x7f01e67dc250>"
      ]
     },
     "metadata": {},
     "output_type": "display_data"
    }
   ],
   "source": [
    "# Show the 2d mask\n",
    "fig = plt.figure(figsize=(8, 6))\n",
    "plt.imshow(mask_2d )\n",
    "plt.colorbar()\n",
    "plt.show()"
   ]
  },
  {
   "cell_type": "markdown",
   "metadata": {},
   "source": [
    "# Loop through all patterns "
   ]
  },
  {
   "cell_type": "code",
   "execution_count": 19,
   "metadata": {},
   "outputs": [
    {
     "name": "stdout",
     "output_type": "stream",
     "text": [
      "0.13 seconds.\n",
      "1.70 seconds.\n",
      "3.30 seconds.\n",
      "4.77 seconds.\n",
      "6.09 seconds.\n",
      "7.41 seconds.\n",
      "8.77 seconds.\n",
      "10.01 seconds.\n",
      "11.20 seconds.\n",
      "12.45 seconds.\n"
     ]
    }
   ],
   "source": [
    "# Create holder for intensities\n",
    "intensity_holder = np.zeros(pattern_num)\n",
    "\n",
    "# holder for calculation time\n",
    "time_holder = [0,]\n",
    "tic = time.time()\n",
    "\n",
    "for pattern_idx in range(pattern_num):\n",
    "    # Get the pattern\n",
    "    sample = arsenal.lcls.get_pattern_stack(detector=det, exp_run=run, event_id=pattern_idx)\n",
    "    \n",
    "    # Apply the mask\n",
    "    sample_masked = sample[mask==True]\n",
    "    \n",
    "    # Get the intensity\n",
    "    intensity_holder[pattern_idx] = np.sum(sample_masked)\n",
    "    \n",
    "    if np.mod(pattern_idx, 100) == 0:\n",
    "        time_holder.append(time.time() - tic)\n",
    "        print(\"{:.2f} seconds.\".format(time_holder[-1]))\n",
    "    \n",
    "    \n",
    "# Save the result\n",
    "with h5.File(output_address+'{}_run_{}_intensity_{}.h5'.format(exp_name, run_num, arsenal.util.time_stamp()),'w') as h5file:\n",
    "    h5file.create_dataset(name=\"mask\", data=mask)\n",
    "    h5file.create_dataset(name=\"intensity\", data=intensity_holder)\n",
    "    \n"
   ]
  }
 ],
 "metadata": {
  "kernelspec": {
   "display_name": "Python 2",
   "language": "python",
   "name": "python2"
  },
  "language_info": {
   "codemirror_mode": {
    "name": "ipython",
    "version": 2
   },
   "file_extension": ".py",
   "mimetype": "text/x-python",
   "name": "python",
   "nbconvert_exporter": "python",
   "pygments_lexer": "ipython2",
   "version": "2.7.15"
  }
 },
 "nbformat": 4,
 "nbformat_minor": 2
}
