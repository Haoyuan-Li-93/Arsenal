{
 "cells": [
  {
   "cell_type": "code",
   "execution_count": 24,
   "metadata": {},
   "outputs": [],
   "source": [
    "import numpy as np\n",
    "import pickle"
   ]
  },
  {
   "cell_type": "code",
   "execution_count": 26,
   "metadata": {},
   "outputs": [],
   "source": [
    "# Get symmetrys from pdb file\n",
    "# This function returns the dictionary of symmetry operation\n",
    "\n",
    "def Symmetry_of_pdb(fname):\n",
    "    \"\"\"\n",
    "    Read REMARK 350 BIOMT from pdb file, which specify the necessary transformation to get the full protein structure.\n",
    "    Returns the dictionary of symmetry operation.\n",
    "    \"\"\"\n",
    "    fin = open(fname, 'r')\n",
    "\n",
    "    sym_dict = {}  # dict to save the symmetry rotations and chain id\n",
    "    trans_dict = {}  # dict to save the symmetry translations and chain id\n",
    "    atom_count = 0\n",
    "    line = fin.readline()\n",
    "    while line:\n",
    "\n",
    "        # read symmetry transformations\n",
    "        flag1 = 'REMARK 350 APPLY THE FOLLOWING TO CHAINS: '\n",
    "        flag2 = 'REMARK 350                    AND CHAINS: '\n",
    "        if line.startswith(flag1):\n",
    "            line = line.strip()\n",
    "            chainIDs = line.replace(flag1, '').replace(',', '').split()\n",
    "            line = fin.readline().strip()\n",
    "            while line.startswith(flag2):\n",
    "                chainIDs += line.replace(flag2, '').replace(',', '').split()\n",
    "                line = fin.readline().strip()\n",
    "            sys_tmp = []\n",
    "            trans_tmp = []\n",
    "            while line[13:18] == 'BIOMT':\n",
    "                sys_tmp.append([float(line[24:33]), float(line[34:43]), float(line[44:53])])\n",
    "                trans_tmp.append(float(line[58:68]))\n",
    "                line = fin.readline().strip()\n",
    "            sym_dict[tuple(chainIDs)] = np.asarray(sys_tmp)  # cannot use list as dict keys, but tuple works\n",
    "            trans_dict[tuple(chainIDs)] = np.asarray(trans_tmp)\n",
    "            print chainIDs\n",
    "            \n",
    "            continue\n",
    "\n",
    "        line = fin.readline()\n",
    "    fin.close()\n",
    "\n",
    "    ##################################################################################################################\n",
    "    # if no REMARK 350 provided, then save atoms_dict in atoms directly\n",
    "    if not sym_dict.keys():\n",
    "        print \"no 350 found\"\n",
    "        return None\n",
    "    \n",
    "    ##################################################################################################################\n",
    "    # Deal with the case where we have remark 350\n",
    "    \n",
    "    rotation_matrix_dic = {}\n",
    "    transition_matrix_dic = {}\n",
    "    \n",
    "    for chainIDs in sym_dict.keys():\n",
    "        \n",
    "        rotation_matrix_dic.update({\"Chain:\"+str(chainIDs) : {}})\n",
    "        transition_matrix_dic.update({\"Chain:\"+str(chainIDs) : {}})\n",
    "\n",
    "        sym_array = sym_dict[chainIDs]\n",
    "        trans_array = trans_dict[chainIDs]\n",
    "        for i in range(int(len(sym_array) / 3)):\n",
    "            sym_op = sym_array[3 * i:3 * (i + 1), :]\n",
    "            trans = trans_array[3 * i:3 * (i + 1)]\n",
    "\n",
    "            rotation_matrix_dic[\"Chain:\"+str(chainIDs)].update({\"No.%d\"%i:sym_op})\n",
    "            transition_matrix_dic[\"Chain:\"+str(chainIDs)].update({\"No.%d\"%i:trans})\n",
    "            \n",
    "    return rotation_matrix_dic, transition_matrix_dic\n",
    "    #return atom_info, sym_dict, atoms_array"
   ]
  },
  {
   "cell_type": "code",
   "execution_count": 27,
   "metadata": {},
   "outputs": [
    {
     "name": "stdout",
     "output_type": "stream",
     "text": [
      "['A', 'B', 'P', 'C', 'D', 'Q', 'E', 'F', 'R', 'G', 'H', 'S', 'I', 'J', 'T', 'K']\n"
     ]
    }
   ],
   "source": [
    "symmetrys, translations = Symmetry_of_pdb('../pysingfel_test/tests/input/1UF2.pdb')"
   ]
  },
  {
   "cell_type": "code",
   "execution_count": 28,
   "metadata": {},
   "outputs": [],
   "source": [
    "Icosahedron_Symmetry = symmetrys[\"Chain:('A', 'B', 'P', 'C', 'D', 'Q', 'E', 'F', 'R', 'G', 'H', 'S', 'I', 'J', 'T', 'K')\"]"
   ]
  },
  {
   "cell_type": "code",
   "execution_count": 29,
   "metadata": {},
   "outputs": [],
   "source": [
    "with open('./symmetry_zoo/Icosahedron_Symmetry.pkl','w') as target:\n",
    "    pickle.dump(Icosahedron_Symmetry, target)"
   ]
  },
  {
   "cell_type": "code",
   "execution_count": null,
   "metadata": {},
   "outputs": [],
   "source": []
  }
 ],
 "metadata": {
  "kernelspec": {
   "display_name": "Python 2",
   "language": "python",
   "name": "python2"
  },
  "language_info": {
   "codemirror_mode": {
    "name": "ipython",
    "version": 2
   },
   "file_extension": ".py",
   "mimetype": "text/x-python",
   "name": "python",
   "nbconvert_exporter": "python",
   "pygments_lexer": "ipython2",
   "version": "2.7.14"
  }
 },
 "nbformat": 4,
 "nbformat_minor": 2
}
