{
 "cells": [
  {
   "cell_type": "code",
   "execution_count": 1,
   "metadata": {},
   "outputs": [],
   "source": [
    "import sys\n",
    "import os\n",
    "import numpy as np\n",
    "import h5py as h5\n",
    "import time\n",
    "import psana\n",
    "import skimage.measure as skm\n",
    "\n",
    "sys.path.append('/reg/neh/home5/haoyuan/Documents/my_repos/Arsenal')\n",
    "import arsenal\n",
    "import arsenal.lcls"
   ]
  },
  {
   "cell_type": "markdown",
   "metadata": {},
   "source": [
    "# [USER] Specify the parameters to use"
   ]
  },
  {
   "cell_type": "code",
   "execution_count": 2,
   "metadata": {},
   "outputs": [
    {
     "name": "stdout",
     "output_type": "stream",
     "text": [
      "The output address is /reg/d/psdm/amo/amox26916/scratch/haoyuan/experiment_data/\n"
     ]
    }
   ],
   "source": [
    "# The experiment info\n",
    "exp_line = 'amo'\n",
    "exp_name = 'amox26916'\n",
    "user_name = 'haoyuan'\n",
    "process_stage = 'scratch'\n",
    "run_num = 85\n",
    "det_name = 'pnccdFront'\n",
    "\n",
    "# Specify the downsampling ratio\n",
    "bin_size = 4\n",
    "\n",
    "# Pattern format: This value should be pattern_2d or pattern_stack\n",
    "pattern_format = 'pattern_2d'\n",
    "\n",
    "# Construct the output address\n",
    "output_address = '/reg/d/psdm/{}/{}/{}/{}/experiment_data/'.format(exp_line,exp_name,process_stage,user_name)\n",
    "print(\"The output address is {}\".format(output_address))\n",
    "\n",
    "# Construct the output file name \n",
    "output_name = '{}_run_{}_all_pattern_bin_size_{}.h5'.format(exp_name, run_num, bin_size)"
   ]
  },
  {
   "cell_type": "markdown",
   "metadata": {},
   "source": [
    "# [AUTO] Check the parameters"
   ]
  },
  {
   "cell_type": "code",
   "execution_count": 3,
   "metadata": {},
   "outputs": [],
   "source": [
    "if not os.path.isdir(output_address):\n",
    "    os.mkdir(output_address)"
   ]
  },
  {
   "cell_type": "markdown",
   "metadata": {},
   "source": [
    "# [AUTO] Intialize the detector"
   ]
  },
  {
   "cell_type": "code",
   "execution_count": 4,
   "metadata": {},
   "outputs": [
    {
     "name": "stdout",
     "output_type": "stream",
     "text": [
      "There are totally 36534 patterns to process.\n"
     ]
    }
   ],
   "source": [
    "# Get data source\n",
    "ds = psana.DataSource('exp={}:run={}:idx'.format(exp_name, run_num))\n",
    "run = ds.runs().next()    \n",
    "env = ds.env()\n",
    "times = run.times()\n",
    "evt = run.event(times[0])\n",
    "\n",
    "# Get pattern number\n",
    "pattern_num = len(times)\n",
    "print(\"There are totally {} patterns to process.\".format(pattern_num))\n",
    "index_to_process = np.arange(pattern_num, dtype=np.int64)\n",
    "\n",
    "# Get detector\n",
    "det = psana.Detector('pnccdFront', env)\n",
    "\n",
    "# Get a sample\n",
    "if pattern_format == 'pattern_2d':\n",
    "    test_sample = arsenal.lcls.get_pattern_2d(detector=det, exp_run=run, event_id=0)\n",
    "elif pattern_format == 'pattern_stack':\n",
    "    test_sample = arsenal.lcls.get_pattern_stack(detector=det, exp_run=run, event_id=0)\n",
    "else:\n",
    "    raise Exception(\"pattern_format has to be either pattern_2d or pattern_stack\")\n",
    "    \n",
    "# Get to know the sample shape\n",
    "sample_shape = test_sample.shape"
   ]
  },
  {
   "cell_type": "markdown",
   "metadata": {},
   "source": [
    "# [AUTO] Divide the index list"
   ]
  },
  {
   "cell_type": "code",
   "execution_count": 5,
   "metadata": {},
   "outputs": [
    {
     "name": "stdout",
     "output_type": "stream",
     "text": [
      "There are roughly 365 batches to process.\n"
     ]
    }
   ],
   "source": [
    "if pattern_num <= 100 :\n",
    "    sub_lists = [np.arange(pattern_num, dtype=np.int64), ]\n",
    "else:\n",
    "    sub_lists_num = pattern_num // 100\n",
    "    print(\"There are roughly {} batches to process.\".format(sub_lists_num))\n",
    "    # Get sublists \n",
    "    sub_lists = np.array_split(ary=index_to_process,indices_or_sections=sub_lists_num, axis=0)"
   ]
  },
  {
   "cell_type": "markdown",
   "metadata": {},
   "source": [
    "# [AUTO] Load and downsample all the patterns"
   ]
  },
  {
   "cell_type": "code",
   "execution_count": 9,
   "metadata": {},
   "outputs": [
    {
     "name": "stdout",
     "output_type": "stream",
     "text": [
      "It takes 14.56 seconds to process 101 patterns.\n",
      "It takes 14.74 seconds to process 101 patterns.\n",
      "It takes 14.73 seconds to process 101 patterns.\n",
      "It takes 17.13 seconds to process 101 patterns.\n",
      "It takes 17.82 seconds to process 101 patterns.\n"
     ]
    }
   ],
   "source": [
    "if pattern_format == 'pattern_2d':\n",
    "    \n",
    "    with h5.File(output_address+output_name,'w') as h5file:\n",
    "        \n",
    "        # For different batches\n",
    "        batch_counter = 0\n",
    "        \n",
    "        # Loop through this list of sublists\n",
    "        for sublist in sub_lists:\n",
    "            \n",
    "            tic = time.time()\n",
    "            # First, get to know the index number in this list\n",
    "            idx_num = sublist.shape[0]\n",
    "            # Construct the shape of the holder variable\n",
    "            holder_shape = (idx_num, ) + sample_shape\n",
    "            holder = np.zeros(holder_shape)\n",
    "            \n",
    "            # Extract all the patterns from this sublist\n",
    "            idx_counter = 0\n",
    "            for idx in sublist:\n",
    "                holder[idx_counter] = arsenal.lcls.get_pattern_2d(detector=det, exp_run=run, event_id=idx)\n",
    "                idx_counter += 1\n",
    "            \n",
    "            # save_the down sampled pattern\n",
    "            h5file.create_dataset('/batch_{}/index'.format(batch_counter), data=sublist)\n",
    "            h5file.create_dataset('/batch_{}/pattern'.format(batch_counter), \n",
    "                                  data=skm.block_reduce(image=holder, block_size=(1, bin_size, bin_size), func=np.sum))\n",
    "            \n",
    "            # Update the batch_counter\n",
    "            batch_counter += 1\n",
    "            \n",
    "            toc = time.time()\n",
    "            print(\"It takes {:.2f} seconds to process {} patterns.\".format(toc - tic, idx_num))\n",
    "            \n",
    "elif pattern_format == 'pattern_stack':\n",
    "                                  \n",
    "    with h5.File(output_address+output_name,'w') as h5file:\n",
    "        \n",
    "        # For different batches\n",
    "        batch_counter = 0\n",
    "        \n",
    "        # Loop through this list of sublists\n",
    "        for sublist in sub_lists:\n",
    "            \n",
    "            tic = time.time()\n",
    "            # First, get to know the index number in this list\n",
    "            idx_num = sublist.shape[0]\n",
    "            # Construct the shape of the holder variable\n",
    "            holder_shape = (idx_num, ) + sample_shape\n",
    "            holder = np.zeros(holder_shape)\n",
    "            \n",
    "            # Extract all the patterns from this sublist\n",
    "            idx_counter = 0\n",
    "            for idx in sublist:\n",
    "                holder[idx_counter] = arsenal.lcls.get_pattern_2d(detector=det, exp_run=run, event_id=idx)\n",
    "                idx_counter += 1\n",
    "            \n",
    "            # save_the down sampled pattern\n",
    "            h5file.create_dataset('/batch_{}/index'.format(batch_counter), data=sublist)\n",
    "            h5file.create_dataset('/batch_{}/pattern'.format(batch_counter), \n",
    "                                  data=skm.block_reduce(image=holder, block_size=(1, bin_size, bin_size), func=np.sum))\n",
    "            \n",
    "            # Update the batch_counter\n",
    "            batch_counter += 1\n",
    "            \n",
    "            toc = time.time()\n",
    "            print(\"It takes {:.2f} seconds to process {} patterns.\".format(toc - tic, idx_num))\n",
    "else:\n",
    "    raise Exception(\"pattern_format has to be either pattern_2d or pattern_stack\")"
   ]
  },
  {
   "cell_type": "code",
   "execution_count": null,
   "metadata": {},
   "outputs": [],
   "source": []
  }
 ],
 "metadata": {
  "kernelspec": {
   "display_name": "Python 2",
   "language": "python",
   "name": "python2"
  },
  "language_info": {
   "codemirror_mode": {
    "name": "ipython",
    "version": 2
   },
   "file_extension": ".py",
   "mimetype": "text/x-python",
   "name": "python",
   "nbconvert_exporter": "python",
   "pygments_lexer": "ipython2",
   "version": "2.7.15"
  }
 },
 "nbformat": 4,
 "nbformat_minor": 2
}
