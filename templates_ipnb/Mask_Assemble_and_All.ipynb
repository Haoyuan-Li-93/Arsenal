{
 "cells": [
  {
   "cell_type": "code",
   "execution_count": 21,
   "metadata": {},
   "outputs": [],
   "source": [
    "import numpy as np\n",
    "import matplotlib.pyplot as plt\n",
    "import psana\n",
    "import time"
   ]
  },
  {
   "cell_type": "markdown",
   "metadata": {},
   "source": [
    "# Specify the parameters"
   ]
  },
  {
   "cell_type": "code",
   "execution_count": 25,
   "metadata": {},
   "outputs": [],
   "source": [
    "experiment_line = 'amo'\n",
    "user_name = 'haoyuan'\n",
    "\n",
    "experiment_name = \"amo86615\"\n",
    "run_number = 186\n",
    "detector_name = \"pnccdBack\""
   ]
  },
  {
   "cell_type": "markdown",
   "metadata": {},
   "source": [
    "# Initialize the detector object"
   ]
  },
  {
   "cell_type": "code",
   "execution_count": 24,
   "metadata": {},
   "outputs": [
    {
     "name": "stdout",
     "output_type": "stream",
     "text": [
      "It takes 2.3608 seconds to finishes the initialization.\n"
     ]
    }
   ],
   "source": [
    "tic = time.time()\n",
    "\n",
    "# Define the detector object\n",
    "ds = psana.DataSource('exp={}:run={}:idx'.format(experiment_name, run_number))\n",
    "run = ds.runs().next()    \n",
    "times = run.times()\n",
    "env = ds.env()\n",
    "det = psana.Detector(detector_name, env)\n",
    "\n",
    "# Get an example pattern\n",
    "idx = 0\n",
    "evt = run.event(times[idx])\n",
    "example = det.image(evt)\n",
    "\n",
    "# Get the shape of the example pattern\n",
    "shape = example.shape\n",
    "\n",
    "toc = time.time()\n",
    "print('It takes {:.5} seconds to finishes the initialization.'.format(toc-tic))"
   ]
  },
  {
   "cell_type": "markdown",
   "metadata": {},
   "source": [
    "# Show the mask"
   ]
  },
  {
   "cell_type": "code",
   "execution_count": 27,
   "metadata": {},
   "outputs": [
    {
     "data": {
      "image/png": "[encoded data removed]",
      "text/plain": [
       "<matplotlib.figure.Figure at 0x7fb9966f9b10>"
      ]
     },
     "metadata": {},
     "output_type": "display_data"
    }
   ],
   "source": [
    "data = np.load('/reg/d/psdm/{}/{}/scratch/{}/psocake/r{:0>4d}/mask.npy'.format(experiment_line,\n",
    "                                                                               experiment_name,\n",
    "                                                                               user_name,\n",
    "                                                                               run_number))\n",
    "# Assemble the pattern\n",
    "assembed_mask = det.image(evt=evt, nda_in=data)\n",
    "\n",
    "# Show the pattern\n",
    "plt.figure(figsize=(16, 12))\n",
    "plt.imshow(assembed_mask)\n",
    "plt.colorbar()\n",
    "plt.show()\n"
   ]
  },
  {
   "cell_type": "markdown",
   "metadata": {},
   "source": [
    "# Save the mask"
   ]
  },
  {
   "cell_type": "code",
   "execution_count": 28,
   "metadata": {},
   "outputs": [
    {
     "name": "stdout",
     "output_type": "stream",
     "text": [
      "The assembled mask is saved to the following address.\n",
      "/reg/d/psdm/amo/amo86615/scratch/haoyuan/psocake/r0186/mask_2D.npy\n"
     ]
    }
   ],
   "source": [
    "save_address = '/reg/d/psdm/{}/{}/scratch/{}/psocake/r{:0>4d}/mask_2D.npy'.format(experiment_line,\n",
    "                                                                               experiment_name,\n",
    "                                                                               user_name,\n",
    "                                                                               run_number)\n",
    "np.save(save_address, assembed_mask)\n",
    "print('The assembled mask is saved to the following address.')\n",
    "print(save_address)"
   ]
  },
  {
   "cell_type": "code",
   "execution_count": null,
   "metadata": {},
   "outputs": [],
   "source": []
  }
 ],
 "metadata": {
  "kernelspec": {
   "display_name": "Python 2 ana-1.3.54",
   "language": "python",
   "name": "ana-1.3.54"
  },
  "language_info": {
   "codemirror_mode": {
    "name": "ipython",
    "version": 2
   },
   "file_extension": ".py",
   "mimetype": "text/x-python",
   "name": "python",
   "nbconvert_exporter": "python",
   "pygments_lexer": "ipython2",
   "version": "2.7.15"
  }
 },
 "nbformat": 4,
 "nbformat_minor": 2
}
