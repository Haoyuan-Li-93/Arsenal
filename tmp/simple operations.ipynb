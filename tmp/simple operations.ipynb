{
 "cells": [
  {
   "cell_type": "code",
   "execution_count": 1,
   "metadata": {},
   "outputs": [],
   "source": [
    "import numpy as np\n",
    "import h5py as h5"
   ]
  },
  {
   "cell_type": "code",
   "execution_count": 2,
   "metadata": {},
   "outputs": [],
   "source": [
    "with h5.File('/reg/d/psdm/amo/amox34117/scratch/haoyuan/pysingfel/output/exp_simulation_pattern_roi.h5') as h5file:\n",
    "    # Get batch_number\n",
    "    batch_num = len(list(h5file.keys()))\n",
    "    \n",
    "    holder = []\n",
    "    for l in range(batch_num):\n",
    "        holder.append(np.array(h5file['pattern_batch_{}'.format(l)]))\n",
    "        \n",
    "distributions = np.concatenate(holder, axis=0)\n",
    "\n",
    "summation = np.sum(distributions, axis=(1,2))\n",
    "distributions /= summation[:, np.newaxis, np.newaxis]"
   ]
  },
  {
   "cell_type": "code",
   "execution_count": 3,
   "metadata": {},
   "outputs": [],
   "source": [
    "with h5.File('/reg/d/psdm/amo/amox34117/scratch/haoyuan/pysingfel/output/normalized_2d_pattern.h5','w') as h5file:\n",
    "    h5file.create_dataset('patterns', data = distributions)"
   ]
  },
  {
   "cell_type": "code",
   "execution_count": null,
   "metadata": {},
   "outputs": [],
   "source": []
  }
 ],
 "metadata": {
  "kernelspec": {
   "display_name": "Python 2",
   "language": "python",
   "name": "python2"
  },
  "language_info": {
   "codemirror_mode": {
    "name": "ipython",
    "version": 2
   },
   "file_extension": ".py",
   "mimetype": "text/x-python",
   "name": "python",
   "nbconvert_exporter": "python",
   "pygments_lexer": "ipython2",
   "version": "2.7.15"
  }
 },
 "nbformat": 4,
 "nbformat_minor": 2
}
