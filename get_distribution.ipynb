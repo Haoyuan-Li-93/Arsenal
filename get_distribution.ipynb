{
 "cells": [
  {
   "cell_type": "markdown",
   "metadata": {},
   "source": [
    "# Doc\n",
    "\n",
    "Input:\n",
    "\n",
    "1. A numpy array called \"values\", containing values that are used to classify the indexes. For example, if one wants to calculate the radial distribution of the 2D pattern, then this value would be the distance of each index in this array to the assumed center, because one would want to classify the indexes according to the distance.\n",
    "\n",
    "2. A (M,2)-shaped array called \"ends\". This array contains the end points of each category. There will be M categories.\n",
    "\n",
    "3. A string called \"output_mode\". When output_mode==\"per class\", the output will be of such shape (M + 1, shape of \"values\"). For example, if [t,1,2,3] in the output is 1. Then it means that the site with index (1,2,3) belongs to the t^th category.  When output_mode==\"in situ\", the output will be of the shape of the variable \"values\". Each site in the output numpy array will carry a value in [0,1,2,...,M-1,M]. This indicates of the specific site. Notice that there are M+1 values rather than M values. This is because that it is possible to have sites that are not in any classes. They are assigned the value M\n",
    "\n",
    "Output:\n",
    "\n",
    "A numpy array of the shape of the variable \"values\" or of the shape (M + 1, the shape of \"values\") depending on the value of the variable \"output_mode\"."
   ]
  },
  {
   "cell_type": "code",
   "execution_count": 1,
   "metadata": {},
   "outputs": [],
   "source": [
    "import numpy as np"
   ]
  },
  {
   "cell_type": "code",
   "execution_count": 7,
   "metadata": {},
   "outputs": [],
   "source": [
    "def get_pixel_map(values, ends, output_mode=\"per class\"):\n",
    "    \"\"\"\n",
    "    \n",
    "    Input:\n",
    "    \n",
    "    values : numpy array, values that are used to classify the indexes. \n",
    "    \n",
    "    ends :  (M,2)-shaped numpy array. Contain the end points of each category.\n",
    "            There will be M categories. At present, the interval is left open,\n",
    "            and right close.\n",
    "            \n",
    "    \"output_mode\": String. When output_mode==\"per class\", the output will be of\n",
    "            such shape (M, shape of \"values\"). When output_mode==\"in situ\", the\n",
    "            output will be of the shape of the variable \"values\". Each site in \n",
    "            the output numpy array will carry a value in [0,1,2,...,M-1,M]. This \n",
    "            indicates of the specific site. Notice that there are M+1 values rather\n",
    "            than M values. This is because that it is possible to have sites that\n",
    "            are not in any classes. They are assigned the value M.\n",
    "\n",
    "    Output:\n",
    "\n",
    "    A numpy array of the shape of the variable \"values\" or of the shape \n",
    "    (M, the shape of \"values\") depending on the value of the variable \"output_mode\".\n",
    "    \n",
    "    \"\"\"\n",
    "\n",
    "    # Get the structure information of the input variable\n",
    "    _values_shape = values.shape\n",
    "    _category_number = ends.shape[0]\n",
    "\n",
    "    if output_mode == \"per class\":\n",
    "        # Create the mapping variable\n",
    "        _class_per_site = np.zeros((_category_number + 1,) + _values_shape, dtype=bool)\n",
    "        # Create a holer for simplicity\n",
    "        _holder = np.zeros_like(values, dtype=bool)\n",
    "\n",
    "        for l in range(_category_number):\n",
    "            # Assign values to the mapping\n",
    "            _holder[(values > ends[l, 0]) & (values <= end[l, 1])] = True\n",
    "            _class_per_site[l, :] = np.copy(_holder)\n",
    "            \n",
    "        # Get the value for the last class\n",
    "        \"\"\"\n",
    "        Because the summation of all the boolean along the first dimension should be one. \n",
    "        The value of the last class is one minus the value of the summation of all the value\n",
    "        along the first dimension\n",
    "        \n",
    "        Because the variable is initialized as zero. We can also do the summation including\n",
    "        The last category.\n",
    "        \"\"\"\n",
    "\n",
    "        _class_per_site[_category_number] = np.logical_not(np.sum(_class_per_site, axis=0))\n",
    "\n",
    "        return _class_per_site\n",
    "\n",
    "    if output_mode == \"in situ\":\n",
    "        # Create the mapping variable.\n",
    "        _class_in_situ = np.ones_like(values) * _category_number\n",
    "\n",
    "        for l in range(_category_number):\n",
    "            _class_in_situ[(values > ends[l, 0]) & (values <= end[l, 1])] = l\n",
    "\n",
    "        return _class_in_situ\n",
    "\n",
    "    print(\"The value of the output_mode is invalid. Please use either \\'in situ\\' or \\'per class\\'. \")\n",
    "    return None\n"
   ]
  }
 ],
 "metadata": {
  "kernelspec": {
   "display_name": "Python 2",
   "language": "python",
   "name": "python2"
  },
  "language_info": {
   "codemirror_mode": {
    "name": "ipython",
    "version": 2
   },
   "file_extension": ".py",
   "mimetype": "text/x-python",
   "name": "python",
   "nbconvert_exporter": "python",
   "pygments_lexer": "ipython2",
   "version": "2.7.14"
  }
 },
 "nbformat": 4,
 "nbformat_minor": 2
}
