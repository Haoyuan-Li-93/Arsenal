{
 "cells": [
  {
   "cell_type": "code",
   "execution_count": 7,
   "metadata": {},
   "outputs": [],
   "source": [
    "import numpy as np\n",
    "\n",
    "import sys\n",
    "sys.path.append(\"C:/Users/haoyuan/Documents/GitHub/Arsenal/\")\n",
    "from arsenal import radial\n",
    "\n",
    "from scipy.optimize import curve_fit"
   ]
  },
  {
   "cell_type": "markdown",
   "metadata": {},
   "source": [
    "# Setup detectors"
   ]
  },
  {
   "cell_type": "code",
   "execution_count": 2,
   "metadata": {},
   "outputs": [],
   "source": [
    "##########################################\n",
    "#     Info of the detector pixel\n",
    "##########################################\n",
    "\n",
    "# This is the position of the detector with respect to the interaction position\n",
    "# for each pixel. \n",
    "# det_pixel_pos[:,:,0] is the x coordinate\n",
    "# det_pixel_pos[:,:,1] is the y coordinate\n",
    "# det_pixel_pos[:,:,2] is the z coordinate\n",
    "# Specifically, I assume that the incident pulse is always along the z axis\n",
    "\n",
    "det_pixel_pos = np.zeros((1024, 1024, 3))   # unit is m\n",
    "det_pixel_pos[:,:,0] = np.arange(-512,512)[np.newaxis, :] * 1e-6\n",
    "det_pixel_pos[:,:,1] = np.arange(-512,512)[:, np.newaxis] * 1e-6\n",
    "det_pixel_pos[:,:,2] = 1.\n",
    "\n",
    "photon_energy_eV = 9500                     # unit is eV\n",
    "\n",
    "############################################################\n",
    "#     Get the photon momentum transfer for each pixel.\n",
    "############################################################\n",
    "q_array, _, _, _ = radial.get_momentum_map(coor_xyz=det_pixel_pos, photon_energy = photon_energy_eV)\n",
    "\n",
    "# Get momentum transfer range for this detector\n",
    "q_len_array = np.sqrt(np.sum(np.square(q_array), axis=-1))\n",
    "q_len_max = np.max(q_len_array)\n",
    "q_len_min = np.min(q_len_array)\n",
    "\n",
    "# Specify how fine we should like to divide the radial distribution\n",
    "cat_num = 100  # The number to divide the q range. This is the category number\n",
    "q_ends_tmp = np.linspace(start=q_len_min, stop=q_len_max, num=cat_num + 1)\n",
    "\n",
    "q_ends = np.zeros((cat_num, 2))    # this is the edge of each q range\n",
    "q_ends[:,0] = q_ends_tmp[:cat_num]\n",
    "q_ends[:,1] = q_ends_tmp[:cat_num+1]\n",
    "\n",
    "# Get the middle point for fitting\n",
    "q_mid = np.mean(q_ends, axis=-1)\n",
    "############################################################\n",
    "#     Get category mask for each radial ring\n",
    "############################################################\n",
    "\n",
    "# This is the category map for the pixels\n",
    "cat_map = radial.get_pixel_map(values=q_len_array, ends=q_ends, output_mode=\"in situ\")"
   ]
  },
  {
   "cell_type": "code",
   "execution_count": 3,
   "metadata": {},
   "outputs": [],
   "source": [
    "###########################################################\n",
    "#   Get the detector image\n",
    "############################################################\n",
    "det_image = np.random.rand(1024,1024)\n",
    "\n",
    "###########################################################\n",
    "#   Get the radial distribution\n",
    "############################################################\n",
    "radial_dist = radial.get_radial_distribution(pattern=det_image,\n",
    "                                             category_map = category_map,\n",
    "                                             number_of_interval = cat_num)"
   ]
  },
  {
   "cell_type": "code",
   "execution_count": 9,
   "metadata": {},
   "outputs": [],
   "source": [
    "def sphere_scattering(q, R, A):\n",
    "    \"\"\"\n",
    "    R is the radius of the particle.\n",
    "    A is proportional to the total intensity, though it is not the intensity\n",
    "    \"\"\"\n",
    "    qr = q * R\n",
    "    return A * (np.sin(qr) - qr * cos(qr)) / qr ** 3\n",
    "\n",
    "def fit_radius(q, dist):\n",
    "    \"\"\"\n",
    "    Assume the diffraction is from a sphere, fit for the radius \n",
    "    for the specified q array and the distribution on the q values\n",
    "    \"\"\"\n",
    "    popt, pcov = curve_fit(f=sphere_scattering,\n",
    "                           xdata = q_mid,\n",
    "                           ydata = radial_dist,\n",
    "                           p0 = [40, 1e4],\n",
    "                           bounds = ([1e-9, 1000],   # Min value for R and A\n",
    "                                     [100, 1e9]),    # Max value for R and A\n",
    "                                                   # This is not stable. You may want to change the unit. However, \n",
    "                                                   # However, if you want to change unit, you need to change the\n",
    "                                                   # unit for q as well.\n",
    "                                                   \n",
    "                           method = \"trf\",        # I do not know what this is specifically. However,\n",
    "                                                    # I do have used this for my old projects for the radius fitting.\n",
    "                          )\n",
    "    return popt    # The optimal value  popt[0] is R in this case, popt[1] is A"
   ]
  },
  {
   "cell_type": "code",
   "execution_count": 10,
   "metadata": {},
   "outputs": [
    {
     "ename": "NameError",
     "evalue": "name 'q_mid' is not defined",
     "output_type": "error",
     "traceback": [
      "\u001b[1;31m---------------------------------------------------------------------------\u001b[0m",
      "\u001b[1;31mNameError\u001b[0m                                 Traceback (most recent call last)",
      "\u001b[1;32m<ipython-input-10-212c5bff7d41>\u001b[0m in \u001b[0;36m<module>\u001b[1;34m\u001b[0m\n\u001b[1;32m----> 1\u001b[1;33m \u001b[0mpopt\u001b[0m \u001b[1;33m=\u001b[0m \u001b[0mfit_radius\u001b[0m\u001b[1;33m(\u001b[0m\u001b[0mq\u001b[0m\u001b[1;33m=\u001b[0m\u001b[0mq_mid\u001b[0m\u001b[1;33m,\u001b[0m \u001b[0mdist\u001b[0m\u001b[1;33m=\u001b[0m\u001b[0mradial_dist\u001b[0m\u001b[1;33m)\u001b[0m\u001b[1;33m\u001b[0m\u001b[1;33m\u001b[0m\u001b[0m\n\u001b[0m",
      "\u001b[1;31mNameError\u001b[0m: name 'q_mid' is not defined"
     ]
    }
   ],
   "source": [
    "popt = fit_radius(q=q_mid, dist=radial_dist)\n",
    "\n",
    "radius = popt[0]\n",
    "intensity_scaling = popt[1]"
   ]
  },
  {
   "cell_type": "markdown",
   "metadata": {},
   "source": [
    "# Plot the radial distribution for the fitted curve"
   ]
  },
  {
   "cell_type": "code",
   "execution_count": null,
   "metadata": {},
   "outputs": [],
   "source": [
    "plt.figure(figsize=(10,5))\n",
    "\n",
    "# Plot the experimental data\n",
    "plt.plot(q_mid, radial_dist, label=\"Exp\")\n",
    "\n",
    "# Plot the fitted data\n",
    "plt.plot(q_mid, sphere_scattering(q=q_mid, R=radius, A=intensity_scaling), label=\"Fig\")\n",
    "\n",
    "plt.legend()\n",
    "plt.show()"
   ]
  }
 ],
 "metadata": {
  "kernelspec": {
   "display_name": "Python 3",
   "language": "python",
   "name": "python3"
  },
  "language_info": {
   "codemirror_mode": {
    "name": "ipython",
    "version": 3
   },
   "file_extension": ".py",
   "mimetype": "text/x-python",
   "name": "python",
   "nbconvert_exporter": "python",
   "pygments_lexer": "ipython3",
   "version": "3.7.6"
  }
 },
 "nbformat": 4,
 "nbformat_minor": 4
}
